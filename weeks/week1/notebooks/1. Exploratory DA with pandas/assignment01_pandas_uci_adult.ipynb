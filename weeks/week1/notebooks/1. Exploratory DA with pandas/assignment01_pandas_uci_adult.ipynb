{
 "cells": [
  {
   "cell_type": "markdown",
   "metadata": {},
   "source": [
    "<center>\n",
    "<img src=\"../../img/ods_stickers.jpg\">\n",
    "    \n",
    "## [mlcourse.ai](https://mlcourse.ai) - Open Machine Learning Course\n",
    "\n",
    "Author: [Yury Kashnitsky](https://www.linkedin.com/in/festline/). Translated and edited by [Sergey Isaev](https://www.linkedin.com/in/isvforall/), [Artem Trunov](https://www.linkedin.com/in/datamove/), [Anastasia Manokhina](https://www.linkedin.com/in/anastasiamanokhina/), and [Yuanyuan Pao](https://www.linkedin.com/in/yuanyuanpao/). All content is distributed under the [Creative Commons CC BY-NC-SA 4.0](https://creativecommons.org/licenses/by-nc-sa/4.0/) license."
   ]
  },
  {
   "cell_type": "markdown",
   "metadata": {},
   "source": [
    "# <center> Assignment #1 (demo)\n",
    "## <center>  Exploratory data analysis with Pandas\n",
    "\n",
    "\n",
    "**Same assignment as a [Kaggle Kernel](https://www.kaggle.com/kashnitsky/a1-demo-pandas-and-uci-adult-dataset) + [solution](https://www.kaggle.com/kashnitsky/a1-demo-pandas-and-uci-adult-dataset-solution).**"
   ]
  },
  {
   "cell_type": "markdown",
   "metadata": {},
   "source": [
    "**In this task you should use Pandas to answer a few questions about the [Adult](https://archive.ics.uci.edu/ml/datasets/Adult) dataset. (You don't have to download the data – it's already  in the repository). Choose the answers in the [web-form](https://docs.google.com/forms/d/1uY7MpI2trKx6FLWZte0uVh3ULV4Cm_tDud0VDFGCOKg).**"
   ]
  },
  {
   "cell_type": "markdown",
   "metadata": {},
   "source": [
    "Unique values of all features (for more information, please see the links above):\n",
    "- `age`: continuous.\n",
    "- `workclass`: Private, Self-emp-not-inc, Self-emp-inc, Federal-gov, Local-gov, State-gov, Without-pay, Never-worked.\n",
    "- `fnlwgt`: continuous.\n",
    "- `education`: Bachelors, Some-college, 11th, HS-grad, Prof-school, Assoc-acdm, Assoc-voc, 9th, 7th-8th, 12th, Masters, 1st-4th, 10th, Doctorate, 5th-6th, Preschool.\n",
    "- `education-num`: continuous.\n",
    "- `marital-status`: Married-civ-spouse, Divorced, Never-married, Separated, Widowed, Married-spouse-absent, Married-AF-spouse.\n",
    "- `occupation`: Tech-support, Craft-repair, Other-service, Sales, Exec-managerial, Prof-specialty, Handlers-cleaners, Machine-op-inspct, Adm-clerical, Farming-fishing, Transport-moving, Priv-house-serv, Protective-serv, Armed-Forces.\n",
    "- `relationship`: Wife, Own-child, Husband, Not-in-family, Other-relative, Unmarried.\n",
    "- `race`: White, Asian-Pac-Islander, Amer-Indian-Eskimo, Other, Black.\n",
    "- `sex`: Female, Male.\n",
    "- `capital-gain`: continuous.\n",
    "- `capital-loss`: continuous.\n",
    "- `hours-per-week`: continuous.\n",
    "- `native-country`: United-States, Cambodia, England, Puerto-Rico, Canada, Germany, Outlying-US(Guam-USVI-etc), India, Japan, Greece, South, China, Cuba, Iran, Honduras, Philippines, Italy, Poland, Jamaica, Vietnam, Mexico, Portugal, Ireland, France, Dominican-Republic, Laos, Ecuador, Taiwan, Haiti, Columbia, Hungary, Guatemala, Nicaragua, Scotland, Thailand, Yugoslavia, El-Salvador, Trinadad&Tobago, Peru, Hong, Holand-Netherlands.   \n",
    "- `salary`: >50K,<=50K"
   ]
  },
  {
   "cell_type": "code",
   "metadata": {
    "ExecuteTime": {
     "end_time": "2025-07-18T12:16:10.321745Z",
     "start_time": "2025-07-18T12:16:05.350868Z"
    }
   },
   "source": [
    "import pandas as pd\n",
    "import math\n",
    "\n",
    "pd.set_option(\"display.max.columns\", 100)\n",
    "# to draw pictures in jupyter notebook\n",
    "%matplotlib inline\n",
    "# we don't like warnings\n",
    "# you can comment the following 2 lines if you'd like to\n",
    "import warnings\n",
    "\n",
    "warnings.filterwarnings(\"ignore\")"
   ],
   "outputs": [],
   "execution_count": 2
  },
  {
   "cell_type": "code",
   "metadata": {
    "ExecuteTime": {
     "end_time": "2025-07-18T12:16:11.173832Z",
     "start_time": "2025-07-18T12:16:11.052679Z"
    }
   },
   "source": [
    "data = pd.read_csv(\"../../data/adult.data.csv\")\n",
    "data.head()"
   ],
   "outputs": [
    {
     "data": {
      "text/plain": [
       "   age         workclass  fnlwgt  education  education-num  \\\n",
       "0   39         State-gov   77516  Bachelors             13   \n",
       "1   50  Self-emp-not-inc   83311  Bachelors             13   \n",
       "2   38           Private  215646    HS-grad              9   \n",
       "3   53           Private  234721       11th              7   \n",
       "4   28           Private  338409  Bachelors             13   \n",
       "\n",
       "       marital-status         occupation   relationship   race     sex  \\\n",
       "0       Never-married       Adm-clerical  Not-in-family  White    Male   \n",
       "1  Married-civ-spouse    Exec-managerial        Husband  White    Male   \n",
       "2            Divorced  Handlers-cleaners  Not-in-family  White    Male   \n",
       "3  Married-civ-spouse  Handlers-cleaners        Husband  Black    Male   \n",
       "4  Married-civ-spouse     Prof-specialty           Wife  Black  Female   \n",
       "\n",
       "   capital-gain  capital-loss  hours-per-week native-country salary  \n",
       "0          2174             0              40  United-States  <=50K  \n",
       "1             0             0              13  United-States  <=50K  \n",
       "2             0             0              40  United-States  <=50K  \n",
       "3             0             0              40  United-States  <=50K  \n",
       "4             0             0              40           Cuba  <=50K  "
      ],
      "text/html": [
       "<div>\n",
       "<style scoped>\n",
       "    .dataframe tbody tr th:only-of-type {\n",
       "        vertical-align: middle;\n",
       "    }\n",
       "\n",
       "    .dataframe tbody tr th {\n",
       "        vertical-align: top;\n",
       "    }\n",
       "\n",
       "    .dataframe thead th {\n",
       "        text-align: right;\n",
       "    }\n",
       "</style>\n",
       "<table border=\"1\" class=\"dataframe\">\n",
       "  <thead>\n",
       "    <tr style=\"text-align: right;\">\n",
       "      <th></th>\n",
       "      <th>age</th>\n",
       "      <th>workclass</th>\n",
       "      <th>fnlwgt</th>\n",
       "      <th>education</th>\n",
       "      <th>education-num</th>\n",
       "      <th>marital-status</th>\n",
       "      <th>occupation</th>\n",
       "      <th>relationship</th>\n",
       "      <th>race</th>\n",
       "      <th>sex</th>\n",
       "      <th>capital-gain</th>\n",
       "      <th>capital-loss</th>\n",
       "      <th>hours-per-week</th>\n",
       "      <th>native-country</th>\n",
       "      <th>salary</th>\n",
       "    </tr>\n",
       "  </thead>\n",
       "  <tbody>\n",
       "    <tr>\n",
       "      <th>0</th>\n",
       "      <td>39</td>\n",
       "      <td>State-gov</td>\n",
       "      <td>77516</td>\n",
       "      <td>Bachelors</td>\n",
       "      <td>13</td>\n",
       "      <td>Never-married</td>\n",
       "      <td>Adm-clerical</td>\n",
       "      <td>Not-in-family</td>\n",
       "      <td>White</td>\n",
       "      <td>Male</td>\n",
       "      <td>2174</td>\n",
       "      <td>0</td>\n",
       "      <td>40</td>\n",
       "      <td>United-States</td>\n",
       "      <td>&lt;=50K</td>\n",
       "    </tr>\n",
       "    <tr>\n",
       "      <th>1</th>\n",
       "      <td>50</td>\n",
       "      <td>Self-emp-not-inc</td>\n",
       "      <td>83311</td>\n",
       "      <td>Bachelors</td>\n",
       "      <td>13</td>\n",
       "      <td>Married-civ-spouse</td>\n",
       "      <td>Exec-managerial</td>\n",
       "      <td>Husband</td>\n",
       "      <td>White</td>\n",
       "      <td>Male</td>\n",
       "      <td>0</td>\n",
       "      <td>0</td>\n",
       "      <td>13</td>\n",
       "      <td>United-States</td>\n",
       "      <td>&lt;=50K</td>\n",
       "    </tr>\n",
       "    <tr>\n",
       "      <th>2</th>\n",
       "      <td>38</td>\n",
       "      <td>Private</td>\n",
       "      <td>215646</td>\n",
       "      <td>HS-grad</td>\n",
       "      <td>9</td>\n",
       "      <td>Divorced</td>\n",
       "      <td>Handlers-cleaners</td>\n",
       "      <td>Not-in-family</td>\n",
       "      <td>White</td>\n",
       "      <td>Male</td>\n",
       "      <td>0</td>\n",
       "      <td>0</td>\n",
       "      <td>40</td>\n",
       "      <td>United-States</td>\n",
       "      <td>&lt;=50K</td>\n",
       "    </tr>\n",
       "    <tr>\n",
       "      <th>3</th>\n",
       "      <td>53</td>\n",
       "      <td>Private</td>\n",
       "      <td>234721</td>\n",
       "      <td>11th</td>\n",
       "      <td>7</td>\n",
       "      <td>Married-civ-spouse</td>\n",
       "      <td>Handlers-cleaners</td>\n",
       "      <td>Husband</td>\n",
       "      <td>Black</td>\n",
       "      <td>Male</td>\n",
       "      <td>0</td>\n",
       "      <td>0</td>\n",
       "      <td>40</td>\n",
       "      <td>United-States</td>\n",
       "      <td>&lt;=50K</td>\n",
       "    </tr>\n",
       "    <tr>\n",
       "      <th>4</th>\n",
       "      <td>28</td>\n",
       "      <td>Private</td>\n",
       "      <td>338409</td>\n",
       "      <td>Bachelors</td>\n",
       "      <td>13</td>\n",
       "      <td>Married-civ-spouse</td>\n",
       "      <td>Prof-specialty</td>\n",
       "      <td>Wife</td>\n",
       "      <td>Black</td>\n",
       "      <td>Female</td>\n",
       "      <td>0</td>\n",
       "      <td>0</td>\n",
       "      <td>40</td>\n",
       "      <td>Cuba</td>\n",
       "      <td>&lt;=50K</td>\n",
       "    </tr>\n",
       "  </tbody>\n",
       "</table>\n",
       "</div>"
      ]
     },
     "execution_count": 3,
     "metadata": {},
     "output_type": "execute_result"
    }
   ],
   "execution_count": 3
  },
  {
   "cell_type": "markdown",
   "metadata": {},
   "source": [
    "**1. How many men and women (*sex* feature) are represented in this dataset?** "
   ]
  },
  {
   "cell_type": "code",
   "metadata": {
    "ExecuteTime": {
     "end_time": "2025-07-18T12:14:36.466710900Z",
     "start_time": "2025-07-04T07:36:28.951378Z"
    }
   },
   "source": "data[\"sex\"].value_counts()",
   "outputs": [
    {
     "data": {
      "text/plain": [
       "sex\n",
       "Male      21790\n",
       "Female    10771\n",
       "Name: count, dtype: int64"
      ]
     },
     "execution_count": 14,
     "metadata": {},
     "output_type": "execute_result"
    }
   ],
   "execution_count": 14
  },
  {
   "cell_type": "markdown",
   "metadata": {},
   "source": [
    "**2. What is the average age (*age* feature) of women?**"
   ]
  },
  {
   "cell_type": "code",
   "metadata": {
    "ExecuteTime": {
     "end_time": "2025-07-18T12:14:36.502568500Z",
     "start_time": "2025-07-04T07:36:29.197648Z"
    }
   },
   "source": "print(math.floor(data[data[\"sex\"] == \"Female\"][\"age\"].mean()), \"years old\")",
   "outputs": [
    {
     "name": "stdout",
     "output_type": "stream",
     "text": [
      "36 years old\n"
     ]
    }
   ],
   "execution_count": 15
  },
  {
   "cell_type": "markdown",
   "metadata": {},
   "source": [
    "**3. What is the percentage of German citizens (*native-country* feature)?**"
   ]
  },
  {
   "cell_type": "code",
   "metadata": {
    "ExecuteTime": {
     "end_time": "2025-07-18T12:14:36.549968700Z",
     "start_time": "2025-07-04T07:36:29.557675Z"
    }
   },
   "source": "print(round(data[\"native-country\"].value_counts(normalize=True)[\"Germany\"] * 100, 2), \"%\")",
   "outputs": [
    {
     "name": "stdout",
     "output_type": "stream",
     "text": [
      "0.42 %\n"
     ]
    }
   ],
   "execution_count": 16
  },
  {
   "cell_type": "markdown",
   "metadata": {},
   "source": [
    "**4-5. What are the mean and standard deviation of age for those who earn more than 50K per year (*salary* feature) and those who earn less than 50K per year? **"
   ]
  },
  {
   "cell_type": "code",
   "metadata": {
    "ExecuteTime": {
     "end_time": "2025-07-18T12:14:36.616726600Z",
     "start_time": "2025-07-04T07:36:29.715302Z"
    }
   },
   "source": "print(data.groupby(\"salary\")[\"age\"].agg([\"mean\", \"std\"]))",
   "outputs": [
    {
     "name": "stdout",
     "output_type": "stream",
     "text": [
      "             mean        std\n",
      "salary                      \n",
      "<=50K   36.783738  14.020088\n",
      ">50K    44.249841  10.519028\n"
     ]
    }
   ],
   "execution_count": 17
  },
  {
   "cell_type": "markdown",
   "metadata": {},
   "source": [
    "**6. Is it true that people who earn more than 50K have at least high school education? (*education – Bachelors, Prof-school, Assoc-acdm, Assoc-voc, Masters* or *Doctorate* feature)**"
   ]
  },
  {
   "cell_type": "code",
   "metadata": {
    "ExecuteTime": {
     "end_time": "2025-07-18T12:14:36.620719Z",
     "start_time": "2025-07-04T07:36:29.820375Z"
    }
   },
   "source": [
    "high_school_or_above = ['Bachelors', 'Prof-school', 'Assoc-acdm', 'Assoc-voc', 'Masters', 'Doctorate']\n",
    "high_earners = data[data[\"salary\"] == \">50K\"]\n",
    "\n",
    "print(high_earners[\"education\"].isin(high_school_or_above).all())"
   ],
   "outputs": [
    {
     "name": "stdout",
     "output_type": "stream",
     "text": [
      "False\n"
     ]
    }
   ],
   "execution_count": 18
  },
  {
   "cell_type": "markdown",
   "metadata": {},
   "source": [
    "**7. Display age statistics for each race (*race* feature) and each gender (*sex* feature). Use *groupby()* and *describe()*. Find the maximum age of men of *Amer-Indian-Eskimo* race.**"
   ]
  },
  {
   "cell_type": "code",
   "metadata": {
    "ExecuteTime": {
     "end_time": "2025-07-18T12:14:36.625723100Z",
     "start_time": "2025-07-04T07:36:29.904787Z"
    }
   },
   "source": [
    "age_statistics = data.groupby([\"race\", \"sex\"])[\"age\"].describe()\n",
    "print(age_statistics.to_string())\n",
    "\n",
    "max_age_eskimo_race = data[(data[\"sex\"] == \"Male\") & (data[\"race\"] == \"Amer-Indian-Eskimo\")][\"age\"].max()\n",
    "print(\"\\nMax male age for Amer-Indian-Eskimo race:\", max_age_eskimo_race)"
   ],
   "outputs": [
    {
     "name": "stdout",
     "output_type": "stream",
     "text": [
      "                             count       mean        std   min   25%   50%    75%   max\n",
      "race               sex                                                                 \n",
      "Amer-Indian-Eskimo Female    119.0  37.117647  13.114991  17.0  27.0  36.0  46.00  80.0\n",
      "                   Male      192.0  37.208333  12.049563  17.0  28.0  35.0  45.00  82.0\n",
      "Asian-Pac-Islander Female    346.0  35.089595  12.300845  17.0  25.0  33.0  43.75  75.0\n",
      "                   Male      693.0  39.073593  12.883944  18.0  29.0  37.0  46.00  90.0\n",
      "Black              Female   1555.0  37.854019  12.637197  17.0  28.0  37.0  46.00  90.0\n",
      "                   Male     1569.0  37.682600  12.882612  17.0  27.0  36.0  46.00  90.0\n",
      "Other              Female    109.0  31.678899  11.631599  17.0  23.0  29.0  39.00  74.0\n",
      "                   Male      162.0  34.654321  11.355531  17.0  26.0  32.0  42.00  77.0\n",
      "White              Female   8642.0  36.811618  14.329093  17.0  25.0  35.0  46.00  90.0\n",
      "                   Male    19174.0  39.652498  13.436029  17.0  29.0  38.0  49.00  90.0\n",
      "\n",
      "Max male age for Amer-Indian-Eskimo race: 82\n"
     ]
    }
   ],
   "execution_count": 19
  },
  {
   "cell_type": "markdown",
   "metadata": {},
   "source": [
    "**8. Among whom is the proportion of those who earn a lot (>50K) greater: married or single men (*marital-status* feature)? Consider as married those who have a *marital-status* starting with *Married* (Married-civ-spouse, Married-spouse-absent or Married-AF-spouse), the rest are considered bachelors.**"
   ]
  },
  {
   "cell_type": "code",
   "metadata": {
    "ExecuteTime": {
     "end_time": "2025-07-18T12:14:36.628736100Z",
     "start_time": "2025-07-04T07:36:30.021245Z"
    }
   },
   "source": [
    "high_earners = data[data[\"salary\"] == \">50K\"]\n",
    "high_earners_count = len(high_earners)\n",
    "\n",
    "married_earners_count = len(high_earners[high_earners[\"marital-status\"].str.startswith(\"Married\")])\n",
    "single_earners_count = high_earners_count - married_earners_count\n",
    "\n",
    "if married_earners_count > single_earners_count:\n",
    "    print(\"Married men earn more\")\n",
    "else:\n",
    "    print(\"Single men earn more\")"
   ],
   "outputs": [
    {
     "name": "stdout",
     "output_type": "stream",
     "text": [
      "Married men earn more\n"
     ]
    }
   ],
   "execution_count": 20
  },
  {
   "cell_type": "markdown",
   "metadata": {},
   "source": [
    "**9. What is the maximum number of hours a person works per week (*hours-per-week* feature)? How many people work such a number of hours, and what is the percentage of those who earn a lot (>50K) among them?**"
   ]
  },
  {
   "cell_type": "code",
   "metadata": {
    "ExecuteTime": {
     "end_time": "2025-07-18T12:14:36.668153300Z",
     "start_time": "2025-07-04T08:59:15.861376Z"
    }
   },
   "source": [
    "max_hours_per_week = data[\"hours-per-week\"].max()\n",
    "print(\"Maximum work hours per week:\", max_hours_per_week)\n",
    "\n",
    "workers = data[data[\"hours-per-week\"] == max_hours_per_week]\n",
    "print(\"Number of highest-load workers:\", len(workers))\n",
    "\n",
    "percentage_high_earners = (workers[\"salary\"] == \">50K\").mean() * 100\n",
    "print(\"Percentage of high-earner workers:\",\n",
    "      math.floor(percentage_high_earners),\n",
    "      \"%\")"
   ],
   "outputs": [
    {
     "name": "stdout",
     "output_type": "stream",
     "text": [
      "Maximum work hours per week: 99\n",
      "Number of highest-load workers: 85\n",
      "Percentage of high-earner workers: 29 %\n"
     ]
    }
   ],
   "execution_count": 26
  },
  {
   "cell_type": "markdown",
   "metadata": {},
   "source": [
    "**10. Count the average time of work (*hours-per-week*) for those who earn a little and a lot (*salary*) for each country (*native-country*). What will these be for Japan?**"
   ]
  },
  {
   "cell_type": "code",
   "metadata": {
    "ExecuteTime": {
     "end_time": "2025-07-18T12:14:36.669527600Z",
     "start_time": "2025-07-04T09:48:22.552263Z"
    }
   },
   "source": [
    "grouped_data = data.groupby([\"native-country\", \"salary\"])[\"hours-per-week\"].mean().round(1)\n",
    "\n",
    "print(grouped_data.to_string())\n",
    "print(f\"Japan:\\n{grouped_data.loc[\"Japan\"].to_string()}\")"
   ],
   "outputs": [
    {
     "name": "stdout",
     "output_type": "stream",
     "text": [
      "native-country              salary\n",
      "?                           <=50K     40.2\n",
      "                            >50K      45.5\n",
      "Cambodia                    <=50K     41.4\n",
      "                            >50K      40.0\n",
      "Canada                      <=50K     37.9\n",
      "                            >50K      45.6\n",
      "China                       <=50K     37.4\n",
      "                            >50K      38.9\n",
      "Columbia                    <=50K     38.7\n",
      "                            >50K      50.0\n",
      "Cuba                        <=50K     38.0\n",
      "                            >50K      42.4\n",
      "Dominican-Republic          <=50K     42.3\n",
      "                            >50K      47.0\n",
      "Ecuador                     <=50K     38.0\n",
      "                            >50K      48.8\n",
      "El-Salvador                 <=50K     36.0\n",
      "                            >50K      45.0\n",
      "England                     <=50K     40.5\n",
      "                            >50K      44.5\n",
      "France                      <=50K     41.1\n",
      "                            >50K      50.8\n",
      "Germany                     <=50K     39.1\n",
      "                            >50K      45.0\n",
      "Greece                      <=50K     41.8\n",
      "                            >50K      50.6\n",
      "Guatemala                   <=50K     39.4\n",
      "                            >50K      36.7\n",
      "Haiti                       <=50K     36.3\n",
      "                            >50K      42.8\n",
      "Holand-Netherlands          <=50K     40.0\n",
      "Honduras                    <=50K     34.3\n",
      "                            >50K      60.0\n",
      "Hong                        <=50K     39.1\n",
      "                            >50K      45.0\n",
      "Hungary                     <=50K     31.3\n",
      "                            >50K      50.0\n",
      "India                       <=50K     38.2\n",
      "                            >50K      46.5\n",
      "Iran                        <=50K     41.4\n",
      "                            >50K      47.5\n",
      "Ireland                     <=50K     40.9\n",
      "                            >50K      48.0\n",
      "Italy                       <=50K     39.6\n",
      "                            >50K      45.4\n",
      "Jamaica                     <=50K     38.2\n",
      "                            >50K      41.1\n",
      "Japan                       <=50K     41.0\n",
      "                            >50K      48.0\n",
      "Laos                        <=50K     40.4\n",
      "                            >50K      40.0\n",
      "Mexico                      <=50K     40.0\n",
      "                            >50K      46.6\n",
      "Nicaragua                   <=50K     36.1\n",
      "                            >50K      37.5\n",
      "Outlying-US(Guam-USVI-etc)  <=50K     41.9\n",
      "Peru                        <=50K     35.1\n",
      "                            >50K      40.0\n",
      "Philippines                 <=50K     38.1\n",
      "                            >50K      43.0\n",
      "Poland                      <=50K     38.2\n",
      "                            >50K      39.0\n",
      "Portugal                    <=50K     41.9\n",
      "                            >50K      41.5\n",
      "Puerto-Rico                 <=50K     38.5\n",
      "                            >50K      39.4\n",
      "Scotland                    <=50K     39.4\n",
      "                            >50K      46.7\n",
      "South                       <=50K     40.2\n",
      "                            >50K      51.4\n",
      "Taiwan                      <=50K     33.8\n",
      "                            >50K      46.8\n",
      "Thailand                    <=50K     42.9\n",
      "                            >50K      58.3\n",
      "Trinadad&Tobago             <=50K     37.1\n",
      "                            >50K      40.0\n",
      "United-States               <=50K     38.8\n",
      "                            >50K      45.5\n",
      "Vietnam                     <=50K     37.2\n",
      "                            >50K      39.2\n",
      "Yugoslavia                  <=50K     41.6\n",
      "                            >50K      49.5\n",
      "Japan:\n",
      "salary\n",
      "<=50K    41.0\n",
      ">50K     48.0\n"
     ]
    }
   ],
   "execution_count": 27
  }
 ],
 "metadata": {
  "anaconda-cloud": {},
  "kernelspec": {
   "display_name": "Python 3",
   "language": "python",
   "name": "python3"
  },
  "language_info": {
   "codemirror_mode": {
    "name": "ipython",
    "version": 3
   },
   "file_extension": ".py",
   "mimetype": "text/x-python",
   "name": "python",
   "nbconvert_exporter": "python",
   "pygments_lexer": "ipython3",
   "version": "3.7.1"
  }
 },
 "nbformat": 4,
 "nbformat_minor": 1
}
